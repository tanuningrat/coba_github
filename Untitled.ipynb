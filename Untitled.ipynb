{
 "cells": [
  {
   "cell_type": "code",
   "execution_count": 1,
   "metadata": {},
   "outputs": [],
   "source": [
    "import numpy as np\n",
    "import pandas as pd\n",
    "import matplotlib.pyplot as plt\n",
    "%matplotlib inline"
   ]
  },
  {
   "cell_type": "code",
   "execution_count": 2,
   "metadata": {},
   "outputs": [],
   "source": [
    "data = pd.read_csv('Capres2014-2.0.csv', encoding='latin1')"
   ]
  },
  {
   "cell_type": "code",
   "execution_count": 3,
   "metadata": {},
   "outputs": [
    {
     "data": {
      "text/html": [
       "<div>\n",
       "<style scoped>\n",
       "    .dataframe tbody tr th:only-of-type {\n",
       "        vertical-align: middle;\n",
       "    }\n",
       "\n",
       "    .dataframe tbody tr th {\n",
       "        vertical-align: top;\n",
       "    }\n",
       "\n",
       "    .dataframe thead th {\n",
       "        text-align: right;\n",
       "    }\n",
       "</style>\n",
       "<table border=\"1\" class=\"dataframe\">\n",
       "  <thead>\n",
       "    <tr style=\"text-align: right;\">\n",
       "      <th></th>\n",
       "      <th>ID</th>\n",
       "      <th>Tweet_ID</th>\n",
       "      <th>Isi_Tweet</th>\n",
       "      <th>Tanggal_Tweet</th>\n",
       "      <th>Kandidat</th>\n",
       "      <th>Aplikasi</th>\n",
       "      <th>Lokasi User</th>\n",
       "      <th>Sentimen</th>\n",
       "    </tr>\n",
       "  </thead>\n",
       "  <tbody>\n",
       "    <tr>\n",
       "      <th>0</th>\n",
       "      <td>133343972</td>\n",
       "      <td>patih_patria</td>\n",
       "      <td>@FahrelStv Gak setuju Jokowi jadi Cawapres.. C...</td>\n",
       "      <td>8/1/2013 0:33</td>\n",
       "      <td>Jokowi</td>\n",
       "      <td>web</td>\n",
       "      <td>BLITAR - INDONESIA</td>\n",
       "      <td>1</td>\n",
       "    </tr>\n",
       "    <tr>\n",
       "      <th>1</th>\n",
       "      <td>921720487</td>\n",
       "      <td>RintisBautista</td>\n",
       "      <td>capres jokowi,wacapres abraham samad. gubernur...</td>\n",
       "      <td>8/1/2013 4:11</td>\n",
       "      <td>Jokowi</td>\n",
       "      <td>&lt;a href=\"http://janetter.net/\" rel=\"nofollow\"&gt;...</td>\n",
       "      <td>Didalam hatinya recha  :love</td>\n",
       "      <td>1</td>\n",
       "    </tr>\n",
       "    <tr>\n",
       "      <th>2</th>\n",
       "      <td>-2120434840</td>\n",
       "      <td>JokowiPres</td>\n",
       "      <td>RT @RintisBautista: capres jokowi,wacapres abr...</td>\n",
       "      <td>8/1/2013 4:32</td>\n",
       "      <td>Jokowi</td>\n",
       "      <td>&lt;a href=\"http://roundteam.co\" rel=\"nofollow\"&gt;R...</td>\n",
       "      <td>NaN</td>\n",
       "      <td>1</td>\n",
       "    </tr>\n",
       "    <tr>\n",
       "      <th>3</th>\n",
       "      <td>-116006035</td>\n",
       "      <td>Franliiiii</td>\n",
       "      <td>capres ( Prabowo ) and cawapres ( jokowi ) and...</td>\n",
       "      <td>8/1/2013 7:33</td>\n",
       "      <td>Prabowo</td>\n",
       "      <td>web</td>\n",
       "      <td>Manado</td>\n",
       "      <td>1</td>\n",
       "    </tr>\n",
       "    <tr>\n",
       "      <th>4</th>\n",
       "      <td>-906300614</td>\n",
       "      <td>JokowiPres</td>\n",
       "      <td>RT @Franliiiii: capres ( Prabowo ) and cawapre...</td>\n",
       "      <td>8/1/2013 7:36</td>\n",
       "      <td>Prabowo</td>\n",
       "      <td>&lt;a href=\"http://roundteam.co\" rel=\"nofollow\"&gt;R...</td>\n",
       "      <td>NaN</td>\n",
       "      <td>1</td>\n",
       "    </tr>\n",
       "  </tbody>\n",
       "</table>\n",
       "</div>"
      ],
      "text/plain": [
       "           ID        Tweet_ID  \\\n",
       "0   133343972    patih_patria   \n",
       "1   921720487  RintisBautista   \n",
       "2 -2120434840      JokowiPres   \n",
       "3  -116006035      Franliiiii   \n",
       "4  -906300614      JokowiPres   \n",
       "\n",
       "                                           Isi_Tweet  Tanggal_Tweet Kandidat  \\\n",
       "0  @FahrelStv Gak setuju Jokowi jadi Cawapres.. C...  8/1/2013 0:33   Jokowi   \n",
       "1  capres jokowi,wacapres abraham samad. gubernur...  8/1/2013 4:11   Jokowi   \n",
       "2  RT @RintisBautista: capres jokowi,wacapres abr...  8/1/2013 4:32   Jokowi   \n",
       "3  capres ( Prabowo ) and cawapres ( jokowi ) and...  8/1/2013 7:33  Prabowo   \n",
       "4  RT @Franliiiii: capres ( Prabowo ) and cawapre...  8/1/2013 7:36  Prabowo   \n",
       "\n",
       "                                            Aplikasi  \\\n",
       "0                                                web   \n",
       "1  <a href=\"http://janetter.net/\" rel=\"nofollow\">...   \n",
       "2  <a href=\"http://roundteam.co\" rel=\"nofollow\">R...   \n",
       "3                                                web   \n",
       "4  <a href=\"http://roundteam.co\" rel=\"nofollow\">R...   \n",
       "\n",
       "                    Lokasi User  Sentimen  \n",
       "0            BLITAR - INDONESIA         1  \n",
       "1  Didalam hatinya recha  :love         1  \n",
       "2                           NaN         1  \n",
       "3                        Manado         1  \n",
       "4                           NaN         1  "
      ]
     },
     "execution_count": 3,
     "metadata": {},
     "output_type": "execute_result"
    }
   ],
   "source": [
    "data.head()"
   ]
  },
  {
   "cell_type": "code",
   "execution_count": 21,
   "metadata": {},
   "outputs": [
    {
     "data": {
      "text/plain": [
       "9/24/2013 15:35     37\n",
       "9/24/2013 15:36     22\n",
       "9/14/2013 11:38     11\n",
       "9/29/2013 11:07     10\n",
       "9/9/2013 3:58        9\n",
       "                    ..\n",
       "11/19/2013 16:03     1\n",
       "8/15/2013 6:36       1\n",
       "9/27/2013 1:15       1\n",
       "2/28/2014 8:36       1\n",
       "9/8/2013 20:55       1\n",
       "Name: Tanggal_Tweet, Length: 3021, dtype: int64"
      ]
     },
     "execution_count": 21,
     "metadata": {},
     "output_type": "execute_result"
    }
   ],
   "source": [
    "data['Tanggal_Tweet'].value_counts()"
   ]
  },
  {
   "cell_type": "code",
   "execution_count": 5,
   "metadata": {},
   "outputs": [
    {
     "data": {
      "text/plain": [
       " 0    1467\n",
       " 1    1124\n",
       "-1     765\n",
       "Name: Sentimen, dtype: int64"
      ]
     },
     "execution_count": 5,
     "metadata": {},
     "output_type": "execute_result"
    }
   ],
   "source": [
    "data['Sentimen'].value_counts()"
   ]
  },
  {
   "cell_type": "code",
   "execution_count": 6,
   "metadata": {},
   "outputs": [],
   "source": [
    "from sklearn.model_selection import train_test_split\n",
    "\n",
    "X_train, X_test, y_train, y_test = train_test_split(data.Kandidat, data.Sentimen)"
   ]
  },
  {
   "cell_type": "code",
   "execution_count": 7,
   "metadata": {},
   "outputs": [],
   "source": [
    "from sklearn.feature_extraction.text import TfidfVectorizer\n",
    "\n",
    "vect = TfidfVectorizer()\n",
    "\n",
    "vect.fit(X_train)\n",
    "X_train_vec = vect.transform(X_train)"
   ]
  },
  {
   "cell_type": "code",
   "execution_count": 8,
   "metadata": {},
   "outputs": [
    {
     "data": {
      "text/plain": [
       "MultinomialNB(alpha=1.0, class_prior=None, fit_prior=True)"
      ]
     },
     "execution_count": 8,
     "metadata": {},
     "output_type": "execute_result"
    }
   ],
   "source": [
    "from sklearn.naive_bayes import MultinomialNB\n",
    "\n",
    "nb = MultinomialNB()\n",
    "nb.fit(X_train_vec, y_train)"
   ]
  },
  {
   "cell_type": "code",
   "execution_count": 9,
   "metadata": {},
   "outputs": [],
   "source": [
    "X_test_vec = vect.transform(X_test)"
   ]
  },
  {
   "cell_type": "code",
   "execution_count": 10,
   "metadata": {},
   "outputs": [],
   "source": [
    "y_pred = nb.predict(X_test_vec)"
   ]
  },
  {
   "cell_type": "code",
   "execution_count": 11,
   "metadata": {},
   "outputs": [
    {
     "name": "stdout",
     "output_type": "stream",
     "text": [
      "              precision    recall  f1-score   support\n",
      "\n",
      "          -1       0.43      0.21      0.28       199\n",
      "           0       0.47      0.71      0.56       342\n",
      "           1       0.44      0.33      0.38       298\n",
      "\n",
      "    accuracy                           0.46       839\n",
      "   macro avg       0.45      0.42      0.41       839\n",
      "weighted avg       0.45      0.46      0.43       839\n",
      "\n"
     ]
    }
   ],
   "source": [
    "from sklearn.metrics import classification_report\n",
    "\n",
    "print(classification_report(y_test, y_pred))"
   ]
  },
  {
   "cell_type": "code",
   "execution_count": 12,
   "metadata": {},
   "outputs": [
    {
     "data": {
      "image/png": "[encoded data removed]",
      "text/plain": [
       "<Figure size 432x288 with 1 Axes>"
      ]
     },
     "metadata": {
      "needs_background": "light"
     },
     "output_type": "display_data"
    }
   ],
   "source": [
    "data.Kandidat.value_counts().plot(kind='bar');"
   ]
  },
  {
   "cell_type": "code",
   "execution_count": 13,
   "metadata": {},
   "outputs": [
    {
     "data": {
      "image/png": "[encoded data removed]",
      "text/plain": [
       "<Figure size 432x288 with 1 Axes>"
      ]
     },
     "metadata": {
      "needs_background": "light"
     },
     "output_type": "display_data"
    }
   ],
   "source": [
    "data.Sentimen.value_counts().plot(kind='bar');"
   ]
  },
  {
   "cell_type": "code",
   "execution_count": 14,
   "metadata": {},
   "outputs": [],
   "source": [
    "data.Kandidat = data.Kandidat.map({'Jokowi':0, 'Prabowo':1, 'None':2, 'JK':3, 'Aburizal':4, 'Megawati':5, 'Dahlan':6, 'Wiranto':7, 'Hatta':8, 'Mahfud':9, 'Paloh':10})"
   ]
  },
  {
   "cell_type": "code",
   "execution_count": 15,
   "metadata": {},
   "outputs": [
    {
     "data": {
      "image/png": "[encoded data removed]",
      "text/plain": [
       "<Figure size 432x288 with 1 Axes>"
      ]
     },
     "metadata": {
      "needs_background": "light"
     },
     "output_type": "display_data"
    }
   ],
   "source": [
    "data.Kandidat.value_counts().plot(kind='bar');"
   ]
  },
  {
   "cell_type": "code",
   "execution_count": 16,
   "metadata": {},
   "outputs": [
    {
     "data": {
      "image/png": "[encoded data removed]",
      "text/plain": [
       "<Figure size 432x288 with 1 Axes>"
      ]
     },
     "metadata": {
      "needs_background": "light"
     },
     "output_type": "display_data"
    }
   ],
   "source": [
    "data[data.Sentimen == 1].Kandidat.value_counts().plot(kind='bar');"
   ]
  },
  {
   "cell_type": "code",
   "execution_count": 17,
   "metadata": {},
   "outputs": [
    {
     "data": {
      "image/png": "[encoded data removed]",
      "text/plain": [
       "<Figure size 432x288 with 1 Axes>"
      ]
     },
     "metadata": {
      "needs_background": "light"
     },
     "output_type": "display_data"
    }
   ],
   "source": [
    "data[data.Sentimen == -1].Kandidat.value_counts().plot(kind='bar');"
   ]
  },
  {
   "cell_type": "code",
   "execution_count": 18,
   "metadata": {},
   "outputs": [
    {
     "data": {
      "image/png": "[encoded data removed]",
      "text/plain": [
       "<Figure size 432x288 with 1 Axes>"
      ]
     },
     "metadata": {
      "needs_background": "light"
     },
     "output_type": "display_data"
    }
   ],
   "source": [
    "data[data.Sentimen == 0].Kandidat.value_counts().plot(kind='bar');"
   ]
  },
  {
   "cell_type": "code",
   "execution_count": 19,
   "metadata": {},
   "outputs": [
    {
     "data": {
      "image/png": "[encoded data removed]",
      "text/plain": [
       "<Figure size 432x288 with 1 Axes>"
      ]
     },
     "metadata": {},
     "output_type": "display_data"
    }
   ],
   "source": [
    "data[(data.Tweet_ID == 'despar54') & (data.Sentimen == 1)].Kandidat.value_counts().plot(kind='pie');"
   ]
  },
  {
   "cell_type": "code",
   "execution_count": 24,
   "metadata": {},
   "outputs": [],
   "source": [
    "data['Tanggal'] = data['Tanggal_Tweet'].apply(lambda x : x.split(' ')[0])"
   ]
  },
  {
   "cell_type": "code",
   "execution_count": 26,
   "metadata": {},
   "outputs": [],
   "source": [
    "data['Waktu'] = data['Tanggal_Tweet'].apply(lambda x : x.split(' ')[1])"
   ]
  },
  {
   "cell_type": "code",
   "execution_count": 27,
   "metadata": {},
   "outputs": [
    {
     "data": {
      "text/html": [
       "<div>\n",
       "<style scoped>\n",
       "    .dataframe tbody tr th:only-of-type {\n",
       "        vertical-align: middle;\n",
       "    }\n",
       "\n",
       "    .dataframe tbody tr th {\n",
       "        vertical-align: top;\n",
       "    }\n",
       "\n",
       "    .dataframe thead th {\n",
       "        text-align: right;\n",
       "    }\n",
       "</style>\n",
       "<table border=\"1\" class=\"dataframe\">\n",
       "  <thead>\n",
       "    <tr style=\"text-align: right;\">\n",
       "      <th></th>\n",
       "      <th>ID</th>\n",
       "      <th>Tweet_ID</th>\n",
       "      <th>Isi_Tweet</th>\n",
       "      <th>Tanggal_Tweet</th>\n",
       "      <th>Kandidat</th>\n",
       "      <th>Aplikasi</th>\n",
       "      <th>Lokasi User</th>\n",
       "      <th>Sentimen</th>\n",
       "      <th>Tanggal</th>\n",
       "      <th>Waktu</th>\n",
       "    </tr>\n",
       "  </thead>\n",
       "  <tbody>\n",
       "    <tr>\n",
       "      <th>0</th>\n",
       "      <td>133343972</td>\n",
       "      <td>patih_patria</td>\n",
       "      <td>@FahrelStv Gak setuju Jokowi jadi Cawapres.. C...</td>\n",
       "      <td>8/1/2013 0:33</td>\n",
       "      <td>0</td>\n",
       "      <td>web</td>\n",
       "      <td>BLITAR - INDONESIA</td>\n",
       "      <td>1</td>\n",
       "      <td>8/1/2013</td>\n",
       "      <td>0:33</td>\n",
       "    </tr>\n",
       "    <tr>\n",
       "      <th>1</th>\n",
       "      <td>921720487</td>\n",
       "      <td>RintisBautista</td>\n",
       "      <td>capres jokowi,wacapres abraham samad. gubernur...</td>\n",
       "      <td>8/1/2013 4:11</td>\n",
       "      <td>0</td>\n",
       "      <td>&lt;a href=\"http://janetter.net/\" rel=\"nofollow\"&gt;...</td>\n",
       "      <td>Didalam hatinya recha  :love</td>\n",
       "      <td>1</td>\n",
       "      <td>8/1/2013</td>\n",
       "      <td>4:11</td>\n",
       "    </tr>\n",
       "    <tr>\n",
       "      <th>2</th>\n",
       "      <td>-2120434840</td>\n",
       "      <td>JokowiPres</td>\n",
       "      <td>RT @RintisBautista: capres jokowi,wacapres abr...</td>\n",
       "      <td>8/1/2013 4:32</td>\n",
       "      <td>0</td>\n",
       "      <td>&lt;a href=\"http://roundteam.co\" rel=\"nofollow\"&gt;R...</td>\n",
       "      <td>NaN</td>\n",
       "      <td>1</td>\n",
       "      <td>8/1/2013</td>\n",
       "      <td>4:32</td>\n",
       "    </tr>\n",
       "    <tr>\n",
       "      <th>3</th>\n",
       "      <td>-116006035</td>\n",
       "      <td>Franliiiii</td>\n",
       "      <td>capres ( Prabowo ) and cawapres ( jokowi ) and...</td>\n",
       "      <td>8/1/2013 7:33</td>\n",
       "      <td>1</td>\n",
       "      <td>web</td>\n",
       "      <td>Manado</td>\n",
       "      <td>1</td>\n",
       "      <td>8/1/2013</td>\n",
       "      <td>7:33</td>\n",
       "    </tr>\n",
       "    <tr>\n",
       "      <th>4</th>\n",
       "      <td>-906300614</td>\n",
       "      <td>JokowiPres</td>\n",
       "      <td>RT @Franliiiii: capres ( Prabowo ) and cawapre...</td>\n",
       "      <td>8/1/2013 7:36</td>\n",
       "      <td>1</td>\n",
       "      <td>&lt;a href=\"http://roundteam.co\" rel=\"nofollow\"&gt;R...</td>\n",
       "      <td>NaN</td>\n",
       "      <td>1</td>\n",
       "      <td>8/1/2013</td>\n",
       "      <td>7:36</td>\n",
       "    </tr>\n",
       "  </tbody>\n",
       "</table>\n",
       "</div>"
      ],
      "text/plain": [
       "           ID        Tweet_ID  \\\n",
       "0   133343972    patih_patria   \n",
       "1   921720487  RintisBautista   \n",
       "2 -2120434840      JokowiPres   \n",
       "3  -116006035      Franliiiii   \n",
       "4  -906300614      JokowiPres   \n",
       "\n",
       "                                           Isi_Tweet  Tanggal_Tweet  Kandidat  \\\n",
       "0  @FahrelStv Gak setuju Jokowi jadi Cawapres.. C...  8/1/2013 0:33         0   \n",
       "1  capres jokowi,wacapres abraham samad. gubernur...  8/1/2013 4:11         0   \n",
       "2  RT @RintisBautista: capres jokowi,wacapres abr...  8/1/2013 4:32         0   \n",
       "3  capres ( Prabowo ) and cawapres ( jokowi ) and...  8/1/2013 7:33         1   \n",
       "4  RT @Franliiiii: capres ( Prabowo ) and cawapre...  8/1/2013 7:36         1   \n",
       "\n",
       "                                            Aplikasi  \\\n",
       "0                                                web   \n",
       "1  <a href=\"http://janetter.net/\" rel=\"nofollow\">...   \n",
       "2  <a href=\"http://roundteam.co\" rel=\"nofollow\">R...   \n",
       "3                                                web   \n",
       "4  <a href=\"http://roundteam.co\" rel=\"nofollow\">R...   \n",
       "\n",
       "                    Lokasi User  Sentimen   Tanggal Waktu  \n",
       "0            BLITAR - INDONESIA         1  8/1/2013  0:33  \n",
       "1  Didalam hatinya recha  :love         1  8/1/2013  4:11  \n",
       "2                           NaN         1  8/1/2013  4:32  \n",
       "3                        Manado         1  8/1/2013  7:33  \n",
       "4                           NaN         1  8/1/2013  7:36  "
      ]
     },
     "execution_count": 27,
     "metadata": {},
     "output_type": "execute_result"
    }
   ],
   "source": [
    "data.head()"
   ]
  },
  {
   "cell_type": "code",
   "execution_count": 28,
   "metadata": {},
   "outputs": [],
   "source": [
    "data['Tanggal'] = pd.to_datetime(data.Tanggal)"
   ]
  },
  {
   "cell_type": "code",
   "execution_count": 30,
   "metadata": {},
   "outputs": [],
   "source": [
    "data['Waktu'] = pd.to_datetime(data.Waktu)"
   ]
  },
  {
   "cell_type": "code",
   "execution_count": 32,
   "metadata": {},
   "outputs": [],
   "source": [
    "data['Tanggal_Tweet'] = pd.to_datetime(data.Waktu)"
   ]
  },
  {
   "cell_type": "code",
   "execution_count": 34,
   "metadata": {},
   "outputs": [
    {
     "data": {
      "image/png": "[encoded data removed]",
      "text/plain": [
       "<Figure size 432x288 with 1 Axes>"
      ]
     },
     "metadata": {
      "needs_background": "light"
     },
     "output_type": "display_data"
    }
   ],
   "source": [
    "data['Tanggal'].value_counts().sort_index().plot();"
   ]
  },
  {
   "cell_type": "code",
   "execution_count": null,
   "metadata": {},
   "outputs": [],
   "source": []
  }
 ],
 "metadata": {
  "kernelspec": {
   "display_name": "Python 3",
   "language": "python",
   "name": "python3"
  },
  "language_info": {
   "codemirror_mode": {
    "name": "ipython",
    "version": 3
   },
   "file_extension": ".py",
   "mimetype": "text/x-python",
   "name": "python",
   "nbconvert_exporter": "python",
   "pygments_lexer": "ipython3",
   "version": "3.7.5rc1"
  }
 },
 "nbformat": 4,
 "nbformat_minor": 2
}
